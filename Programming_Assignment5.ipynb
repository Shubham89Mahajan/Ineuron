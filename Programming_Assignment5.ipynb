{
 "cells": [
  {
   "cell_type": "markdown",
   "id": "9166671b",
   "metadata": {},
   "source": [
    "### Write a Python Program to Find LCM?"
   ]
  },
  {
   "cell_type": "code",
   "execution_count": 1,
   "id": "d9600eec",
   "metadata": {},
   "outputs": [
    {
     "name": "stdout",
     "output_type": "stream",
     "text": [
      "Enter a first number4\n",
      "Enter a second number6\n",
      "12\n"
     ]
    }
   ],
   "source": [
    "num1 = int(input('Enter a first number'))\n",
    "num2 = int(input('Enter a second number'))\n",
    "\n",
    "if num1 > num2:\n",
    "    greater = num1\n",
    "else:\n",
    "    greater = num2\n",
    "    \n",
    "while(True):\n",
    "    if((greater % num1==0)and(greater % num2==0)):\n",
    "        lcm=greater\n",
    "        break\n",
    "    greater=greater+1\n",
    "\n",
    "print(lcm)"
   ]
  },
  {
   "cell_type": "markdown",
   "id": "bb4ce95f",
   "metadata": {},
   "source": [
    "### Write a Python Program to Find HCF?"
   ]
  },
  {
   "cell_type": "code",
   "execution_count": 3,
   "id": "376dee67",
   "metadata": {},
   "outputs": [
    {
     "name": "stdout",
     "output_type": "stream",
     "text": [
      "Enter a first number50\n",
      "Enter a second number20\n",
      "10\n"
     ]
    }
   ],
   "source": [
    "num1 = int(input('Enter a first number'))\n",
    "num2 = int(input('Enter a second number'))\n",
    "\n",
    "if num1 > num2:\n",
    "    small = num2\n",
    "else:\n",
    "    small = num1\n",
    "for i in range(1, small+1):\n",
    "    if((num1 % i == 0) and (num2 % i == 0)):\n",
    "        hcf = i\n",
    "        \n",
    "print(hcf)"
   ]
  },
  {
   "cell_type": "markdown",
   "id": "4aba81e2",
   "metadata": {},
   "source": [
    "### Write a Python Program to Convert Decimal to Binary, Octal and Hexadecimal?"
   ]
  },
  {
   "cell_type": "code",
   "execution_count": 5,
   "id": "e44da09d",
   "metadata": {},
   "outputs": [
    {
     "name": "stdout",
     "output_type": "stream",
     "text": [
      "0b101011000 in binary.\n",
      "0o530 in octal.\n",
      "0x158 in hexadecimal.\n"
     ]
    }
   ],
   "source": [
    "decimal = int(input('Enter a decimal number :'))\n",
    "\n",
    "\n",
    "print(bin(decimal), \"in binary.\")\n",
    "print(oct(decimal), \"in octal.\")\n",
    "print(hex(decimal), \"in hexadecimal.\")"
   ]
  },
  {
   "cell_type": "markdown",
   "id": "d708d736",
   "metadata": {},
   "source": [
    "### Write a Python Program To Find ASCII value of a character?"
   ]
  },
  {
   "cell_type": "code",
   "execution_count": 6,
   "id": "a9276a42",
   "metadata": {},
   "outputs": [
    {
     "name": "stdout",
     "output_type": "stream",
     "text": [
      "Enter a character :a\n",
      "97\n"
     ]
    }
   ],
   "source": [
    "char = input('Enter a character :')\n",
    "print(ord(char))"
   ]
  },
  {
   "cell_type": "markdown",
   "id": "f4d99806",
   "metadata": {},
   "source": [
    "### Write a Python Program to Make a Simple Calculator with 4 basic mathematical operations?"
   ]
  },
  {
   "cell_type": "code",
   "execution_count": 7,
   "id": "7c3a72bb",
   "metadata": {},
   "outputs": [
    {
     "name": "stdout",
     "output_type": "stream",
     "text": [
      "Enter a first number 50\n",
      "Enter a second number 20\n",
      "Addition : 70\n",
      "Subtraction : 30\n",
      "Multiplication  1000\n",
      "Division  0.4\n"
     ]
    }
   ],
   "source": [
    "num1 = int(input('Enter a first number '))\n",
    "num2 = int(input('Enter a second number '))\n",
    "\n",
    "print('Addition :',num1+num2)\n",
    "print('Subtraction :',num1-num2)\n",
    "print('Multiplication ',num1*num2)\n",
    "print('Division ',num2/num1)"
   ]
  }
 ],
 "metadata": {
  "kernelspec": {
   "display_name": "Python 3",
   "language": "python",
   "name": "python3"
  },
  "language_info": {
   "codemirror_mode": {
    "name": "ipython",
    "version": 3
   },
   "file_extension": ".py",
   "mimetype": "text/x-python",
   "name": "python",
   "nbconvert_exporter": "python",
   "pygments_lexer": "ipython3",
   "version": "3.8.8"
  }
 },
 "nbformat": 4,
 "nbformat_minor": 5
}
