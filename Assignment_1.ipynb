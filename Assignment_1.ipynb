{
 "cells": [
  {
   "cell_type": "markdown",
   "id": "3e2b1f8a",
   "metadata": {},
   "source": [
    "#### Q1) In the below elements which of them are values or an expression? eg:- values can be\n",
    "##### integer or string and expressions will be mathematical operators.\n",
    "##### *\n",
    "##### 'hello'\n",
    "##### -87.8\n",
    "##### -\n",
    "##### /\n",
    "##### +\n",
    "##### 6"
   ]
  },
  {
   "cell_type": "markdown",
   "id": "360486c7",
   "metadata": {},
   "source": [
    "Values:\n",
    "1. 'hello'\n",
    "2. -87.8\n",
    "3. 6\n",
    "\n",
    "Expression:\n",
    "1. *\n",
    "2. -\n",
    "3. /\n",
    "4. +"
   ]
  },
  {
   "cell_type": "markdown",
   "id": "0b15c7a2",
   "metadata": {},
   "source": [
    "#### 2. What is the difference between string and variable?"
   ]
  },
  {
   "cell_type": "markdown",
   "id": "772e9b00",
   "metadata": {},
   "source": [
    "variable: It's a container which store the information.Its a identifier to store value in memory location\n",
    "string : Its a type of information which store in a variable\n",
    "    \n",
    "Example :\n",
    "val = 'Ineuron'\n",
    "\n",
    "From above: val is a variable, and the value of that variable is of type string."
   ]
  },
  {
   "cell_type": "markdown",
   "id": "a5cd266a",
   "metadata": {},
   "source": [
    "#### 3. Describe three different data types."
   ]
  },
  {
   "cell_type": "markdown",
   "id": "6955d7a4",
   "metadata": {},
   "source": [
    "Three different data types are:\n",
    "    1. Numeric (Integer, Float)\n",
    "    2. Boolean\n",
    "    3. Set\n",
    "Integer:\n",
    "    This value is represented by int class. It contains positive or negative whole numbers \n",
    "    (without fraction or decimal). In Python there is no limit to how long an integer value can be.\n",
    "Float:\n",
    "    This value is represented by float class. It is a real number with floating point representation. \n",
    "    It is specified by a decimal point.\n",
    "\n",
    "Boolean:\n",
    "    Data type with one of the two built-in values, True or False. Boolean objects that are equal to True are truthy (true), and those equal to False are falsy (false). \n",
    "\n",
    "Set:\n",
    "     Set is an unordered collection of data type that is iterable, mutable and has no duplicate elements. \n",
    "    The order of elements in a set is undefined though it may consist of various elements."
   ]
  },
  {
   "cell_type": "markdown",
   "id": "53775426",
   "metadata": {},
   "source": [
    "#### 4. What is an expression made up of? What do all expressions do?"
   ]
  },
  {
   "cell_type": "markdown",
   "id": "55053e4b",
   "metadata": {},
   "source": [
    "An expression is a combination of operators and operands that is interpreted to produce some other value.\n",
    "If there is more than one operator in an expression, their precedence decides which operation will be performed first. \n",
    "We have many different types of expressions are as follows:\n",
    "1. Arithmetic Expression\n",
    "2. Relational Expression\n",
    "3. Logical Expression"
   ]
  },
  {
   "cell_type": "markdown",
   "id": "1f9e89db",
   "metadata": {},
   "source": [
    "#### 5. This assignment statements, like spam = 10. What is the difference between an expression and a statement?"
   ]
  },
  {
   "cell_type": "code",
   "execution_count": null,
   "id": "b669ca96",
   "metadata": {},
   "outputs": [],
   "source": [
    "spam = 10\n",
    "#It's a statement as well as expression. Since every statement is expression, but every expression can't be statement"
   ]
  },
  {
   "cell_type": "markdown",
   "id": "cbab8e76",
   "metadata": {},
   "source": [
    "#### 6. After running the following code, what does the variable bacon contain?\n",
    "#### bacon = 22\n",
    "#### bacon + 1"
   ]
  },
  {
   "cell_type": "code",
   "execution_count": null,
   "id": "f01d4786",
   "metadata": {},
   "outputs": [],
   "source": [
    "#bacon will contain 22 value, coz we are not assigning that incremental value back to bacon variable."
   ]
  },
  {
   "cell_type": "markdown",
   "id": "ea2dc085",
   "metadata": {},
   "source": [
    "#### 7. What should the values of the following two terms be?\n",
    "#### 'spam' + 'spamspam'\n",
    "#### 'spam' * 3"
   ]
  },
  {
   "cell_type": "code",
   "execution_count": null,
   "id": "d9bbe3e5",
   "metadata": {},
   "outputs": [],
   "source": [
    "#For both term value will be spamspamspam"
   ]
  },
  {
   "cell_type": "markdown",
   "id": "246a0580",
   "metadata": {},
   "source": [
    "#### 8. Why is eggs a valid variable name while 100 is invalid?"
   ]
  },
  {
   "cell_type": "code",
   "execution_count": null,
   "id": "45a6ccdd",
   "metadata": {},
   "outputs": [],
   "source": [
    "Variable name should start with letter(a-zA-Z) or underscore (_).\n",
    "Variable name can have numbers but not at the beginning.\n",
    "From ABove: eggs contains alphabets so its valid, but 100 is invalid because its starting from a digit."
   ]
  },
  {
   "cell_type": "markdown",
   "id": "f85c3e9f",
   "metadata": {},
   "source": [
    "#### 9. What three functions can be used to get the integer, floating-point number, or string version of a value?"
   ]
  },
  {
   "cell_type": "code",
   "execution_count": null,
   "id": "af82c181",
   "metadata": {},
   "outputs": [],
   "source": [
    "#int(), float(), str()"
   ]
  },
  {
   "cell_type": "markdown",
   "id": "5d4a02dc",
   "metadata": {},
   "source": [
    "#### 10. Why does this expression cause an error? How can you fix it? 'I have eaten ' + 99 + 'burritos.'"
   ]
  },
  {
   "cell_type": "code",
   "execution_count": 3,
   "id": "e5f93479",
   "metadata": {},
   "outputs": [
    {
     "data": {
      "text/plain": [
       "'I have eaten 99burritos.'"
      ]
     },
     "execution_count": 3,
     "metadata": {},
     "output_type": "execute_result"
    }
   ],
   "source": [
    "#Since 99 is a numeric/integer we can't append number to string, To do so we need to convert the number to string then we\n",
    "#can concat that to the string\n",
    "\n",
    "'I have eaten ' + str(99) + 'burritos.'"
   ]
  }
 ],
 "metadata": {
  "kernelspec": {
   "display_name": "Python 3",
   "language": "python",
   "name": "python3"
  },
  "language_info": {
   "codemirror_mode": {
    "name": "ipython",
    "version": 3
   },
   "file_extension": ".py",
   "mimetype": "text/x-python",
   "name": "python",
   "nbconvert_exporter": "python",
   "pygments_lexer": "ipython3",
   "version": "3.8.8"
  }
 },
 "nbformat": 4,
 "nbformat_minor": 5
}
