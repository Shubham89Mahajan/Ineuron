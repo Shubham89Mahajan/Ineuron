{
 "cells": [
  {
   "cell_type": "markdown",
   "id": "8665bdcb",
   "metadata": {},
   "source": [
    "### Write a Python Program to find sum of array?"
   ]
  },
  {
   "cell_type": "code",
   "execution_count": 2,
   "id": "5bc614c0",
   "metadata": {},
   "outputs": [
    {
     "data": {
      "text/plain": [
       "28"
      ]
     },
     "execution_count": 2,
     "metadata": {},
     "output_type": "execute_result"
    }
   ],
   "source": [
    "arr = [3,6,7,4,8]\n",
    "sum(arr)"
   ]
  },
  {
   "cell_type": "markdown",
   "id": "d68809d5",
   "metadata": {},
   "source": [
    "### Write a Python Program to find largest element in an array?"
   ]
  },
  {
   "cell_type": "code",
   "execution_count": 4,
   "id": "7f647020",
   "metadata": {},
   "outputs": [
    {
     "name": "stdout",
     "output_type": "stream",
     "text": [
      "12\n"
     ]
    }
   ],
   "source": [
    "arr1 = [4,8,12,7,3]\n",
    "maxi = arr1[0]\n",
    "for i in arr1:\n",
    "    if i>maxi:\n",
    "        maxi=i\n",
    "print(maxi)\n",
    "        "
   ]
  },
  {
   "cell_type": "markdown",
   "id": "bb3b985c",
   "metadata": {},
   "source": [
    "### Write a Python Program for array rotation?"
   ]
  },
  {
   "cell_type": "code",
   "execution_count": 6,
   "id": "e4a1cdb3",
   "metadata": {},
   "outputs": [
    {
     "name": "stdout",
     "output_type": "stream",
     "text": [
      "array after left rotation is: \n",
      "[6, 7, 3, 9, 8, 1, 2]\n"
     ]
    }
   ],
   "source": [
    "def rotateArray(a,d):\n",
    "    temp = []\n",
    "    n=len(a)\n",
    "    for i in range(d,n):\n",
    "        temp.append(a[i])\n",
    "    i = 0\n",
    "    for i in range (0,d):\n",
    "        temp.append(a[i])\n",
    "    a=temp.copy()\n",
    "    return a\n",
    " \n",
    "arr = [1, 2, 6, 7, 3, 9, 8]\n",
    "print(\"array after left rotation is: \")\n",
    "print(rotateArray(arr, 2))\n"
   ]
  },
  {
   "cell_type": "markdown",
   "id": "a3bd7f97",
   "metadata": {},
   "source": [
    "### Write a Python Program to Split the array and add the first part to the end?"
   ]
  },
  {
   "cell_type": "code",
   "execution_count": 7,
   "id": "a7778db6",
   "metadata": {},
   "outputs": [
    {
     "name": "stdout",
     "output_type": "stream",
     "text": [
      "6 52 36 12 10 5 "
     ]
    }
   ],
   "source": [
    "def splitArr(a, n, k): \n",
    "    b = a[:k]\n",
    "    return (a[k::]+b[::])\n",
    "          \n",
    "arr = [12, 10, 5, 6, 52, 36]\n",
    "n = len(arr)\n",
    "position = 3\n",
    "arr = splitArr(arr, n, position)\n",
    "for i in range(0, n): \n",
    "    print(arr[i], end = ' ')"
   ]
  },
  {
   "cell_type": "markdown",
   "id": "a6c5e352",
   "metadata": {},
   "source": [
    "### Write a Python Program to check if given array is Monotonic?"
   ]
  },
  {
   "cell_type": "code",
   "execution_count": 14,
   "id": "a210aecf",
   "metadata": {},
   "outputs": [
    {
     "name": "stdout",
     "output_type": "stream",
     "text": [
      "Array is not monotonic\n"
     ]
    }
   ],
   "source": [
    "A = [6, 5, 4, 6]\n",
    "x, y = [], []\n",
    "x.extend(A)\n",
    "y.extend(A)\n",
    "x.sort()\n",
    "y.sort(reverse=True)\n",
    "if(x == A or y == A):\n",
    "    print('Array is monotonic')\n",
    "else:\n",
    "    print('Array is not monotonic')"
   ]
  }
 ],
 "metadata": {
  "kernelspec": {
   "display_name": "Python 3",
   "language": "python",
   "name": "python3"
  },
  "language_info": {
   "codemirror_mode": {
    "name": "ipython",
    "version": 3
   },
   "file_extension": ".py",
   "mimetype": "text/x-python",
   "name": "python",
   "nbconvert_exporter": "python",
   "pygments_lexer": "ipython3",
   "version": "3.8.8"
  }
 },
 "nbformat": 4,
 "nbformat_minor": 5
}
